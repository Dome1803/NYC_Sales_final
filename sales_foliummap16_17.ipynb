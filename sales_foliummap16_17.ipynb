{
 "cells": [
  {
   "cell_type": "markdown",
   "source": [
    "# Folium Test 16/17"
   ],
   "metadata": {
    "collapsed": false
   }
  },
  {
   "cell_type": "code",
   "execution_count": 66,
   "outputs": [
    {
     "name": "stdout",
     "output_type": "stream",
     "text": [
      "       ZIP         BLOCK          LOT  ZIP CODE  RESIDENTIAL UNITS  \\\n",
      "0    10001    769.426471   550.274510   10001.0           7.303922   \n",
      "1    10002    328.079268   359.317073   10002.0           2.106707   \n",
      "2    10003    672.133005   531.520936   10003.0           1.391626   \n",
      "3    10004     18.894737  1776.642105   10004.0           1.221053   \n",
      "4    10005     32.226131  1234.095477   10005.0           4.929648   \n",
      "..     ...           ...          ...       ...                ...   \n",
      "180  11436  12035.474359    69.967949   11436.0           2.407051   \n",
      "181  11691  15698.602299    93.032184   11691.0           1.439080   \n",
      "182  11692  16028.388535    52.732484   11692.0           1.738854   \n",
      "183  11693  15544.753521   195.436620   11693.0           1.183099   \n",
      "184  11694  16235.926740   235.578755   11694.0           1.937729   \n",
      "\n",
      "     COMMERCIAL UNITS  TOTAL UNITS  LAND SQUARE FEET  GROSS SQUARE FEET  \\\n",
      "0            1.710784     9.088235        308.899743        2461.706351   \n",
      "1            0.310976     2.484756         49.807904         182.647015   \n",
      "2            0.190887     1.619458         30.834529         173.948854   \n",
      "3            0.031579     1.252632         55.184382        1284.870004   \n",
      "4            0.190955     5.135678         54.844983        1403.926327   \n",
      "..                ...          ...               ...                ...   \n",
      "180          0.028846     2.435897        288.698752         191.085094   \n",
      "181          0.041379     1.485057        389.976467         199.348054   \n",
      "182          0.019108     1.757962        322.689990         189.519753   \n",
      "183          0.091549     1.302817        285.826547         126.720346   \n",
      "184          0.098901     2.098901        357.058898         166.326317   \n",
      "\n",
      "      YEAR BUILT  TAX CLASS AT TIME OF SALE    SALE PRICE        LAT  \\\n",
      "0    1324.975490                   2.519608  1.245806e+07  40.750633   \n",
      "1    1730.283537                   2.277439  2.262498e+06  40.715775   \n",
      "2    1622.173645                   2.133005  2.103042e+06  40.731829   \n",
      "3    1699.863158                   2.063158  9.721585e+06  40.688630   \n",
      "4    1864.070352                   2.060302  9.156858e+06  40.706027   \n",
      "..           ...                        ...           ...        ...   \n",
      "180  1911.144231                   1.032051  4.938543e+05  40.675807   \n",
      "181  1682.537931                   1.181609  3.143167e+05  40.601278   \n",
      "182  1882.445860                   1.121019  3.076333e+05  40.594095   \n",
      "183  1870.007042                   1.387324  3.106071e+05  40.590692   \n",
      "184  1743.329670                   1.494505  4.152425e+05  40.578270   \n",
      "\n",
      "             LNG    BOROUGH  \n",
      "0     -73.997177  Manhattan  \n",
      "1     -73.986212  Manhattan  \n",
      "2     -73.989181  Manhattan  \n",
      "3     -74.018244  Manhattan  \n",
      "4     -74.008835  Manhattan  \n",
      "..           ...        ...  \n",
      "180   -73.796622  The Bronx  \n",
      "181   -73.761651  The Bronx  \n",
      "182   -73.792896  The Bronx  \n",
      "183   -73.809749  The Bronx  \n",
      "184   -73.844762  The Bronx  \n",
      "\n",
      "[185 rows x 15 columns]\n"
     ]
    },
    {
     "name": "stderr",
     "output_type": "stream",
     "text": [
      "C:\\Users\\Dome\\Anaconda3\\lib\\site-packages\\ipykernel_launcher.py:12: SettingWithCopyWarning: \n",
      "A value is trying to be set on a copy of a slice from a DataFrame.\n",
      "Try using .loc[row_indexer,col_indexer] = value instead\n",
      "\n",
      "See the caveats in the documentation: http://pandas.pydata.org/pandas-docs/stable/user_guide/indexing.html#returning-a-view-versus-a-copy\n",
      "  if sys.path[0] == '':\n",
      "C:\\Users\\Dome\\Anaconda3\\lib\\site-packages\\ipykernel_launcher.py:14: SettingWithCopyWarning: \n",
      "A value is trying to be set on a copy of a slice from a DataFrame\n",
      "\n",
      "See the caveats in the documentation: http://pandas.pydata.org/pandas-docs/stable/user_guide/indexing.html#returning-a-view-versus-a-copy\n",
      "  \n",
      "C:\\Users\\Dome\\Anaconda3\\lib\\site-packages\\folium\\folium.py:415: FutureWarning: The choropleth  method has been deprecated. Instead use the new Choropleth class, which has the same arguments. See the example notebook 'GeoJSON_and_choropleth' for how to do this.\n",
      "  FutureWarning\n"
     ]
    },
    {
     "ename": "KeyError",
     "evalue": "41",
     "output_type": "error",
     "traceback": [
      "\u001B[1;31m---------------------------------------------------------------------------\u001B[0m",
      "\u001B[1;31mKeyError\u001B[0m                                  Traceback (most recent call last)",
      "\u001B[1;32m<ipython-input-66-bd9da887d5b5>\u001B[0m in \u001B[0;36m<module>\u001B[1;34m\u001B[0m\n\u001B[0;32m     39\u001B[0m \u001B[0mmarker_cluster\u001B[0m \u001B[1;33m=\u001B[0m \u001B[0mMarkerCluster\u001B[0m\u001B[1;33m(\u001B[0m\u001B[1;33m)\u001B[0m\u001B[1;33m.\u001B[0m\u001B[0madd_to\u001B[0m\u001B[1;33m(\u001B[0m\u001B[0mmap\u001B[0m\u001B[1;33m)\u001B[0m\u001B[1;33m\u001B[0m\u001B[1;33m\u001B[0m\u001B[0m\n\u001B[0;32m     40\u001B[0m \u001B[1;32mfor\u001B[0m \u001B[0mi\u001B[0m \u001B[1;32min\u001B[0m \u001B[0mrange\u001B[0m\u001B[1;33m(\u001B[0m\u001B[0mzipcodes_agg\u001B[0m\u001B[1;33m.\u001B[0m\u001B[0mshape\u001B[0m\u001B[1;33m[\u001B[0m\u001B[1;36m0\u001B[0m\u001B[1;33m]\u001B[0m\u001B[1;33m)\u001B[0m\u001B[1;33m:\u001B[0m\u001B[1;33m\u001B[0m\u001B[1;33m\u001B[0m\u001B[0m\n\u001B[1;32m---> 41\u001B[1;33m     \u001B[0mlocation\u001B[0m \u001B[1;33m=\u001B[0m \u001B[1;33m[\u001B[0m\u001B[0mzipcodes_agg\u001B[0m\u001B[1;33m[\u001B[0m\u001B[1;34m'LAT'\u001B[0m\u001B[1;33m]\u001B[0m\u001B[1;33m[\u001B[0m\u001B[0mi\u001B[0m\u001B[1;33m]\u001B[0m\u001B[1;33m,\u001B[0m\u001B[0mzipcodes_agg\u001B[0m\u001B[1;33m[\u001B[0m\u001B[1;34m'LNG'\u001B[0m\u001B[1;33m]\u001B[0m\u001B[1;33m[\u001B[0m\u001B[0mi\u001B[0m\u001B[1;33m]\u001B[0m\u001B[1;33m]\u001B[0m\u001B[1;33m\u001B[0m\u001B[1;33m\u001B[0m\u001B[0m\n\u001B[0m\u001B[0;32m     42\u001B[0m     \u001B[0mtooltip\u001B[0m \u001B[1;33m=\u001B[0m \u001B[1;34m\"Zipcode:{}<br> Borough: {}<br> Click for more\"\u001B[0m\u001B[1;33m.\u001B[0m\u001B[0mformat\u001B[0m\u001B[1;33m(\u001B[0m\u001B[0mzipcodes_agg\u001B[0m\u001B[1;33m[\u001B[0m\u001B[1;34m\"ZIP\"\u001B[0m\u001B[1;33m]\u001B[0m\u001B[1;33m[\u001B[0m\u001B[0mi\u001B[0m\u001B[1;33m]\u001B[0m\u001B[1;33m,\u001B[0m \u001B[0mzipcodes_agg\u001B[0m\u001B[1;33m[\u001B[0m\u001B[1;34m'BOROUGH'\u001B[0m\u001B[1;33m]\u001B[0m\u001B[1;33m[\u001B[0m\u001B[0mi\u001B[0m\u001B[1;33m]\u001B[0m\u001B[1;33m)\u001B[0m\u001B[1;33m\u001B[0m\u001B[1;33m\u001B[0m\u001B[0m\n\u001B[0;32m     43\u001B[0m     folium.Marker(location,\n",
      "\u001B[1;32m~\\Anaconda3\\lib\\site-packages\\pandas\\core\\series.py\u001B[0m in \u001B[0;36m__getitem__\u001B[1;34m(self, key)\u001B[0m\n\u001B[0;32m   1066\u001B[0m         \u001B[0mkey\u001B[0m \u001B[1;33m=\u001B[0m \u001B[0mcom\u001B[0m\u001B[1;33m.\u001B[0m\u001B[0mapply_if_callable\u001B[0m\u001B[1;33m(\u001B[0m\u001B[0mkey\u001B[0m\u001B[1;33m,\u001B[0m \u001B[0mself\u001B[0m\u001B[1;33m)\u001B[0m\u001B[1;33m\u001B[0m\u001B[1;33m\u001B[0m\u001B[0m\n\u001B[0;32m   1067\u001B[0m         \u001B[1;32mtry\u001B[0m\u001B[1;33m:\u001B[0m\u001B[1;33m\u001B[0m\u001B[1;33m\u001B[0m\u001B[0m\n\u001B[1;32m-> 1068\u001B[1;33m             \u001B[0mresult\u001B[0m \u001B[1;33m=\u001B[0m \u001B[0mself\u001B[0m\u001B[1;33m.\u001B[0m\u001B[0mindex\u001B[0m\u001B[1;33m.\u001B[0m\u001B[0mget_value\u001B[0m\u001B[1;33m(\u001B[0m\u001B[0mself\u001B[0m\u001B[1;33m,\u001B[0m \u001B[0mkey\u001B[0m\u001B[1;33m)\u001B[0m\u001B[1;33m\u001B[0m\u001B[1;33m\u001B[0m\u001B[0m\n\u001B[0m\u001B[0;32m   1069\u001B[0m \u001B[1;33m\u001B[0m\u001B[0m\n\u001B[0;32m   1070\u001B[0m             \u001B[1;32mif\u001B[0m \u001B[1;32mnot\u001B[0m \u001B[0mis_scalar\u001B[0m\u001B[1;33m(\u001B[0m\u001B[0mresult\u001B[0m\u001B[1;33m)\u001B[0m\u001B[1;33m:\u001B[0m\u001B[1;33m\u001B[0m\u001B[1;33m\u001B[0m\u001B[0m\n",
      "\u001B[1;32m~\\Anaconda3\\lib\\site-packages\\pandas\\core\\indexes\\base.py\u001B[0m in \u001B[0;36mget_value\u001B[1;34m(self, series, key)\u001B[0m\n\u001B[0;32m   4728\u001B[0m         \u001B[0mk\u001B[0m \u001B[1;33m=\u001B[0m \u001B[0mself\u001B[0m\u001B[1;33m.\u001B[0m\u001B[0m_convert_scalar_indexer\u001B[0m\u001B[1;33m(\u001B[0m\u001B[0mk\u001B[0m\u001B[1;33m,\u001B[0m \u001B[0mkind\u001B[0m\u001B[1;33m=\u001B[0m\u001B[1;34m\"getitem\"\u001B[0m\u001B[1;33m)\u001B[0m\u001B[1;33m\u001B[0m\u001B[1;33m\u001B[0m\u001B[0m\n\u001B[0;32m   4729\u001B[0m         \u001B[1;32mtry\u001B[0m\u001B[1;33m:\u001B[0m\u001B[1;33m\u001B[0m\u001B[1;33m\u001B[0m\u001B[0m\n\u001B[1;32m-> 4730\u001B[1;33m             \u001B[1;32mreturn\u001B[0m \u001B[0mself\u001B[0m\u001B[1;33m.\u001B[0m\u001B[0m_engine\u001B[0m\u001B[1;33m.\u001B[0m\u001B[0mget_value\u001B[0m\u001B[1;33m(\u001B[0m\u001B[0ms\u001B[0m\u001B[1;33m,\u001B[0m \u001B[0mk\u001B[0m\u001B[1;33m,\u001B[0m \u001B[0mtz\u001B[0m\u001B[1;33m=\u001B[0m\u001B[0mgetattr\u001B[0m\u001B[1;33m(\u001B[0m\u001B[0mseries\u001B[0m\u001B[1;33m.\u001B[0m\u001B[0mdtype\u001B[0m\u001B[1;33m,\u001B[0m \u001B[1;34m\"tz\"\u001B[0m\u001B[1;33m,\u001B[0m \u001B[1;32mNone\u001B[0m\u001B[1;33m)\u001B[0m\u001B[1;33m)\u001B[0m\u001B[1;33m\u001B[0m\u001B[1;33m\u001B[0m\u001B[0m\n\u001B[0m\u001B[0;32m   4731\u001B[0m         \u001B[1;32mexcept\u001B[0m \u001B[0mKeyError\u001B[0m \u001B[1;32mas\u001B[0m \u001B[0me1\u001B[0m\u001B[1;33m:\u001B[0m\u001B[1;33m\u001B[0m\u001B[1;33m\u001B[0m\u001B[0m\n\u001B[0;32m   4732\u001B[0m             \u001B[1;32mif\u001B[0m \u001B[0mlen\u001B[0m\u001B[1;33m(\u001B[0m\u001B[0mself\u001B[0m\u001B[1;33m)\u001B[0m \u001B[1;33m>\u001B[0m \u001B[1;36m0\u001B[0m \u001B[1;32mand\u001B[0m \u001B[1;33m(\u001B[0m\u001B[0mself\u001B[0m\u001B[1;33m.\u001B[0m\u001B[0mholds_integer\u001B[0m\u001B[1;33m(\u001B[0m\u001B[1;33m)\u001B[0m \u001B[1;32mor\u001B[0m \u001B[0mself\u001B[0m\u001B[1;33m.\u001B[0m\u001B[0mis_boolean\u001B[0m\u001B[1;33m(\u001B[0m\u001B[1;33m)\u001B[0m\u001B[1;33m)\u001B[0m\u001B[1;33m:\u001B[0m\u001B[1;33m\u001B[0m\u001B[1;33m\u001B[0m\u001B[0m\n",
      "\u001B[1;32mpandas\\_libs\\index.pyx\u001B[0m in \u001B[0;36mpandas._libs.index.IndexEngine.get_value\u001B[1;34m()\u001B[0m\n",
      "\u001B[1;32mpandas\\_libs\\index.pyx\u001B[0m in \u001B[0;36mpandas._libs.index.IndexEngine.get_value\u001B[1;34m()\u001B[0m\n",
      "\u001B[1;32mpandas\\_libs\\index.pyx\u001B[0m in \u001B[0;36mpandas._libs.index.IndexEngine.get_loc\u001B[1;34m()\u001B[0m\n",
      "\u001B[1;32mpandas\\_libs\\hashtable_class_helper.pxi\u001B[0m in \u001B[0;36mpandas._libs.hashtable.Int64HashTable.get_item\u001B[1;34m()\u001B[0m\n",
      "\u001B[1;32mpandas\\_libs\\hashtable_class_helper.pxi\u001B[0m in \u001B[0;36mpandas._libs.hashtable.Int64HashTable.get_item\u001B[1;34m()\u001B[0m\n",
      "\u001B[1;31mKeyError\u001B[0m: 41"
     ]
    }
   ],
   "source": [
    "# Imports\n",
    "import pandas as pd\n",
    "import functions as fc\n",
    "import numpy as np\n",
    "import matplotlib.pyplot as plt\n",
    "import folium\n",
    "\n",
    "sales_frame = fc.read_csv(\"data/nyc-rolling-sales2.csv\")\n",
    "\n",
    "# Filtering sales_frame for ZIP CODES > 0 and changing datatype to string\n",
    "zipcodes = sales_frame[sales_frame[\"ZIP CODE\"]>0]\n",
    "zipcodes[\"ZIP\"] = zipcodes[\"ZIP CODE\"].astype(str)\n",
    "boroughs = zipcodes[[\"ZIP\", \"BOROUGH\"]]\n",
    "boroughs.drop_duplicates(\"ZIP\", inplace=True)\n",
    "\n",
    "# Getting Latitude and Longitude Values for each ZIP CODE\n",
    "us_zipcodes = pd.read_csv(\"data/US Zip Codes from 2013 Government Data.txt\", delimiter= \",\", dtype=str)\n",
    "zipcodes_agg=pd.merge(zipcodes.groupby(\"ZIP\").agg(np.mean), us_zipcodes, how=\"left\", on=\"ZIP\")\n",
    "zipcodes_agg = pd.merge(zipcodes_agg, boroughs, how=\"left\", on=\"ZIP\")\n",
    "print(zipcodes_agg)\n",
    "\n",
    "# Dropping all nan values for further processing\n",
    "zipcodes_agg[\"LAT\"].replace(\"\", np.nan, inplace=True)\n",
    "zipcodes_agg.dropna(subset=[\"LAT\"], inplace=True)\n",
    "\n",
    "# Checking new dataframe\n",
    "fc.to_csv(\"data/foliumtest.csv\", zipcodes_agg)\n",
    "\n",
    "from folium.plugins import MarkerCluster\n",
    "map = folium.Map(location=[40.693943, -73.985880], default_zoom_start=12)\n",
    "map.choropleth(geo_data=\"data/nyc-zip-code-tabulation-areas-polygons.geojson\",\n",
    "             data=zipcodes_agg, # my dataset\n",
    "             columns=[\"ZIP\", \"SALE PRICE\"], # zip code is here for matching the geojson zipcode, sales price is the column that changes the color of zipcode areas\n",
    "             key_on='feature.properties.postalCode', # this path contains zipcodes in str type, this zipcodes should match with our ZIP CODE column\n",
    "             fill_color='BuPu', fill_opacity=0.7, line_opacity=0.2,\n",
    "             legend_name='SALE PRICE')\n",
    "\n",
    "\n",
    "marker_cluster = MarkerCluster().add_to(map)\n",
    "for i in range(zipcodes_agg.shape[0]):\n",
    "    location = [zipcodes_agg['LAT'][i],zipcodes_agg['LNG'][i]]\n",
    "    tooltip = \"Zipcode:{}<br> Borough: {}<br> Click for more\".format(zipcodes_agg[\"ZIP\"][i], zipcodes_agg['BOROUGH'][i])\n",
    "    folium.Marker(location,\n",
    "                  popup=\"\"\"<i>Mean sales price: </i> <br> <b>${}</b> <br>\n",
    "                  <i>mean total units: </i><b><br>{}</b><br>\n",
    "                  <i>mean square feet: </i><b><br>{}</b><br>\"\"\".format(round(zipcodes_agg['SALE PRICE'][i],2), round(zipcodes_agg['TOTAL UNITS'][i],2), round(zipcodes_agg['GROSS SQUARE FEET'][i],2)),\n",
    "                  tooltip=tooltip).add_to(marker_cluster)\n",
    "\n",
    "map\n",
    "map.save(\"graphics/nyc_map.html\")\n"
   ],
   "metadata": {
    "collapsed": false,
    "pycharm": {
     "name": "#%%\n"
    }
   }
  }
 ],
 "metadata": {
  "kernelspec": {
   "display_name": "Python 3",
   "language": "python",
   "name": "python3"
  },
  "language_info": {
   "codemirror_mode": {
    "name": "ipython",
    "version": 2
   },
   "file_extension": ".py",
   "mimetype": "text/x-python",
   "name": "python",
   "nbconvert_exporter": "python",
   "pygments_lexer": "ipython2",
   "version": "2.7.6"
  }
 },
 "nbformat": 4,
 "nbformat_minor": 0
}