{
 "cells": [
  {
   "cell_type": "markdown",
   "metadata": {
    "collapsed": true,
    "pycharm": {
     "name": "#%% md\n"
    }
   },
   "source": [
    "## Tax Classes"
   ]
  },
  {
   "cell_type": "code",
   "execution_count": 1,
   "outputs": [
    {
     "name": "stdout",
     "output_type": "stream",
     "text": [
      "BOROUGH                            object\n",
      "NEIGHBORHOOD                       object\n",
      "BUILDING CLASS CATEGORY            object\n",
      "TAX CLASS AT PRESENT               object\n",
      "BLOCK                               int64\n",
      "LOT                                 int64\n",
      "EASE-MENT                          object\n",
      "BUILDING CLASS AT PRESENT          object\n",
      "ADDRESS                            object\n",
      "APARTMENT NUMBER                   object\n",
      "ZIP CODE                            int64\n",
      "RESIDENTIAL UNITS                   int64\n",
      "COMMERCIAL UNITS                    int64\n",
      "TOTAL UNITS                         int64\n",
      "LAND SQUARE FEET                  float64\n",
      "GROSS SQUARE FEET                 float64\n",
      "YEAR BUILT                          int64\n",
      "TAX CLASS AT TIME OF SALE           int64\n",
      "BUILDING CLASS AT TIME OF SALE     object\n",
      "SALE PRICE                          int64\n",
      "SALE DATE                          object\n",
      "dtype: object\n"
     ]
    }
   ],
   "source": [
    "# Imports\n",
    "import functions as fc\n",
    "import matplotlib.pyplot as plt\n",
    "plt.style.use(\"ggplot\")\n",
    "\n",
    "# Read input file\n",
    "sales_frame = fc.read_csv(\"data/nyc-rolling-sales2.csv\")\n",
    "\n",
    "\n",
    "# Data Types of the Data Frame post changing\n",
    "print(sales_frame.dtypes)"
   ],
   "metadata": {
    "collapsed": false,
    "pycharm": {
     "name": "#%%\n"
    }
   }
  },
  {
   "cell_type": "code",
   "execution_count": 2,
   "outputs": [
    {
     "name": "stdout",
     "output_type": "stream",
     "text": [
      "1     38633\n",
      "2     30919\n",
      "4      6140\n",
      "2A     2521\n",
      "2C     1915\n",
      "1A     1444\n",
      "1B     1234\n",
      "2B      814\n",
      "        738\n",
      "1C      186\n",
      "3         4\n",
      "Name: TAX CLASS AT PRESENT, dtype: int64\n"
     ]
    }
   ],
   "source": [
    "# Steuerklassen:\n",
    "# - Klasse 1: Umfasst die meisten Wohneigentumsbestände mit bis zu drei Einheiten (wie Ein-, Zwei- und Dreifamilienhäuser und kleine Geschäfte oder Büros mit einer oder zwei angeschlossenen Wohnungen), leere Grundstücke, die für Wohnzwecke in Zonen eingeteilt sind, und die meisten Eigentumswohnungen, die nicht mehr als drei Stockwerke haben.\n",
    "\n",
    "# - Klasse 2: Umfasst alle anderen Immobilien, die hauptsächlich Wohnzwecken dienen, wie Genossenschaften und Eigentumswohnungen.\n",
    "\n",
    "# - Klasse 3: Umfasst Immobilien mit Geräten, die einem Gas-, Telefon- oder Elektrizitätsunternehmen gehören.\n",
    "\n",
    "# - Klasse 4: Umfasst alle anderen Immobilien, die nicht in den Klassen 1, 2 und 3 enthalten sind, wie z.B. Büros, Fabriken, Lagerhäuser, Garagengebäude usw.\n",
    "\n",
    "tax_classes = sales_frame['TAX CLASS AT PRESENT'].value_counts()\n",
    "print(tax_classes)\n",
    "\n",
    "N = len(sales_frame)"
   ],
   "metadata": {
    "collapsed": false,
    "pycharm": {
     "name": "#%%\n"
    }
   }
  },
  {
   "cell_type": "markdown",
   "source": [
    "### Tax Class 1"
   ],
   "metadata": {
    "collapsed": false
   }
  },
  {
   "cell_type": "code",
   "execution_count": 3,
   "outputs": [
    {
     "name": "stdout",
     "output_type": "stream",
     "text": [
      "41497\n",
      "49 %\n",
      "49 % der Verkäufe (= 41497 ), sind Ein-, Zwei- und/oder Dreifamilienhäuser.\n"
     ]
    }
   ],
   "source": [
    "taxclass1 = len(sales_frame[sales_frame[\"TAX CLASS AT PRESENT\"] == \"1\"])\n",
    "taxclass1A = len(sales_frame[sales_frame[\"TAX CLASS AT PRESENT\"] == \"1A\"])\n",
    "taxclass1B = len(sales_frame[sales_frame[\"TAX CLASS AT PRESENT\"] == \"1B\"])\n",
    "taxclass1C = len(sales_frame[sales_frame[\"TAX CLASS AT PRESENT\"] == \"1C\"])\n",
    "taxclass1gesamt = taxclass1 + taxclass1A + taxclass1B + taxclass1C\n",
    "taxclass1proz = taxclass1gesamt/N*100\n",
    "print(taxclass1gesamt)\n",
    "print(int(taxclass1proz), \"%\")\n",
    "print(int(taxclass1proz), \"% der Verkäufe (=\", taxclass1gesamt, \"), sind Ein-, Zwei- und/oder Dreifamilienhäuser.\")\n"
   ],
   "metadata": {
    "collapsed": false,
    "pycharm": {
     "name": "#%%\n"
    }
   }
  },
  {
   "cell_type": "markdown",
   "source": [
    "### Tax Class 2"
   ],
   "metadata": {
    "collapsed": false
   }
  },
  {
   "cell_type": "code",
   "execution_count": 4,
   "outputs": [
    {
     "name": "stdout",
     "output_type": "stream",
     "text": [
      "36169\n",
      "42 %\n",
      "42 % der Verkäufe (= 36169 ), sind Immobilien, die hauptsächlich Wohnzwecken dienen, wie Genossenschaften und Eigentumswohnungen.\n"
     ]
    }
   ],
   "source": [
    "taxclass2 = len(sales_frame[sales_frame[\"TAX CLASS AT PRESENT\"] == \"2\"])\n",
    "taxclass2A = len(sales_frame[sales_frame[\"TAX CLASS AT PRESENT\"] == \"2A\"])\n",
    "taxclass2B = len(sales_frame[sales_frame[\"TAX CLASS AT PRESENT\"] == \"2B\"])\n",
    "taxclass2C = len(sales_frame[sales_frame[\"TAX CLASS AT PRESENT\"] == \"2C\"])\n",
    "taxclass2gesamt = taxclass2 + taxclass2A + taxclass2B + taxclass2C\n",
    "taxclass2proz = taxclass2gesamt/N*100\n",
    "print(taxclass2gesamt)\n",
    "print(int(taxclass2proz), \"%\")\n",
    "print(int(taxclass2proz), \"% der Verkäufe (=\", taxclass2gesamt, \"), sind Immobilien, die hauptsächlich Wohnzwecken dienen, wie Genossenschaften und Eigentumswohnungen.\")"
   ],
   "metadata": {
    "collapsed": false,
    "pycharm": {
     "name": "#%%\n"
    }
   }
  },
  {
   "cell_type": "markdown",
   "source": [
    "### Tax Class 3"
   ],
   "metadata": {
    "collapsed": false
   }
  },
  {
   "cell_type": "code",
   "execution_count": 5,
   "outputs": [
    {
     "name": "stdout",
     "output_type": "stream",
     "text": [
      "4\n",
      "0 %\n",
      "Weniger als 1% (= 4 ) der Verkäufe umfasst Immobilien mit Geräten, die einem Gas-, Telefon- oder Elektrizitätsunternehmen gehören.\n"
     ]
    }
   ],
   "source": [
    "taxclass3 = len(sales_frame[sales_frame[\"TAX CLASS AT PRESENT\"] == \"3\"])\n",
    "taxclass3proz = taxclass3/N*100\n",
    "print(taxclass3)\n",
    "print(int(taxclass3proz), \"%\")\n",
    "print(\"Weniger als 1% (=\", taxclass3, \") der Verkäufe umfasst Immobilien mit Geräten, die einem Gas-, Telefon- oder Elektrizitätsunternehmen gehören.\")"
   ],
   "metadata": {
    "collapsed": false,
    "pycharm": {
     "name": "#%%\n"
    }
   }
  },
  {
   "cell_type": "markdown",
   "source": [
    "### Tax Class 4"
   ],
   "metadata": {
    "collapsed": false
   }
  },
  {
   "cell_type": "code",
   "execution_count": 6,
   "outputs": [
    {
     "name": "stdout",
     "output_type": "stream",
     "text": [
      "6140\n",
      "7 %\n",
      "7 % der Verkäufe (= 6140 ), umfasst alle anderen Immobilien, die nicht in den Klassen 1, 2 und 3 enthalten sind, wie z.B. Büros, Fabriken, Lagerhäuser, Garagengebäude usw.\n"
     ]
    }
   ],
   "source": [
    "taxclass4 = len(sales_frame[sales_frame[\"TAX CLASS AT PRESENT\"] == \"4\"])\n",
    "taxclass4proz = taxclass4/N*100\n",
    "print(taxclass4)\n",
    "print(int(taxclass4proz), \"%\")\n",
    "print(int(taxclass4proz), \"% der Verkäufe (=\", taxclass4, \"), umfasst alle anderen Immobilien, die nicht in den Klassen 1, 2 und 3 enthalten sind, wie z.B. Büros, Fabriken, Lagerhäuser, Garagengebäude usw.\")"
   ],
   "metadata": {
    "collapsed": false,
    "pycharm": {
     "name": "#%%\n"
    }
   }
  },
  {
   "cell_type": "markdown",
   "source": [
    "### Without Tax Class"
   ],
   "metadata": {
    "collapsed": false
   }
  },
  {
   "cell_type": "code",
   "execution_count": 7,
   "outputs": [
    {
     "name": "stdout",
     "output_type": "stream",
     "text": [
      "738\n",
      "738 Datensätze sind ohne Tax Class versehen.\n"
     ]
    }
   ],
   "source": [
    "taxclass0 = len(sales_frame[sales_frame[\"TAX CLASS AT PRESENT\"] == \" \"])\n",
    "print(taxclass0)\n",
    "print(taxclass0, \"Datensätze sind ohne Tax Class versehen.\")"
   ],
   "metadata": {
    "collapsed": false,
    "pycharm": {
     "name": "#%%\n"
    }
   }
  },
  {
   "cell_type": "markdown",
   "source": [
    "### Pie Plot Visual"
   ],
   "metadata": {
    "collapsed": false
   }
  },
  {
   "cell_type": "code",
   "execution_count": 8,
   "outputs": [
    {
     "name": "stdout",
     "output_type": "stream",
     "text": [
      "   TAX CLASS AT PRESENT  COUNT\n",
      "0                          738\n",
      "1                     1  38633\n",
      "2                    1A   1444\n",
      "3                    1B   1234\n",
      "4                    1C    186\n",
      "5                     2  30919\n",
      "6                    2A   2521\n",
      "7                    2B    814\n",
      "8                    2C   1915\n",
      "9                     3      4\n",
      "10                    4   6140\n"
     ]
    },
    {
     "data": {
      "text/plain": "<Figure size 432x288 with 1 Axes>",
      "image/png": "[encoded data removed]"
     },
     "metadata": {},
     "output_type": "display_data"
    }
   ],
   "source": [
    "# Grouping by Tax Class and Counting number of sales per tax class\n",
    "tax_classes_grouped = sales_frame.groupby([\"TAX CLASS AT PRESENT\"])\n",
    "tax_classes_grouped_counts = tax_classes_grouped[\"SALE PRICE\"].count().reset_index(name=\"COUNT\")\n",
    "print(tax_classes_grouped_counts)\n",
    "\n",
    "x = tax_classes_grouped_counts[\"TAX CLASS AT PRESENT\"]\n",
    "y = tax_classes_grouped_counts[\"COUNT\"]\n",
    "# Defining colors for graphic and defining variable percent\n",
    "colors = ['yellowgreen','red','gold','lightskyblue','white','lightcoral','blue','pink', 'darkgreen','yellow','grey','violet','magenta','cyan']\n",
    "percent = 100.*y/y.sum()\n",
    "\n",
    "# Plotting variable v into a pie chart and defining variable \"labels\" which shows tax class and percentage of whole sum on left side of graphic\n",
    "patches, texts = plt.pie(y, colors=colors, startangle=90, radius=1.2)\n",
    "labels = ['{0} - {1:1.2f} %'.format(i,j) for i,j in zip(x, percent)]\n",
    "\n",
    "# Sorting legend by highest percentual value\n",
    "sort_legend = True\n",
    "if sort_legend:\n",
    "    patches, labels, dummy =  zip(*sorted(zip(patches, labels, y),\n",
    "                                          key=lambda x: x[2],\n",
    "                                          reverse=True))\n",
    "plt.title(\"Tax Classes of Sales in Percent\")\n",
    "plt.legend(patches, labels, bbox_to_anchor=(-0.1, 1.),\n",
    "           fontsize=8)\n",
    "plt.savefig(\"graphics/Tax Classes of Sales in Percent.jpg\", bbox_inches=\"tight\")"
   ],
   "metadata": {
    "collapsed": false,
    "pycharm": {
     "name": "#%%\n"
    }
   }
  }
 ],
 "metadata": {
  "kernelspec": {
   "display_name": "Python 3",
   "language": "python",
   "name": "python3"
  },
  "language_info": {
   "codemirror_mode": {
    "name": "ipython",
    "version": 2
   },
   "file_extension": ".py",
   "mimetype": "text/x-python",
   "name": "python",
   "nbconvert_exporter": "python",
   "pygments_lexer": "ipython2",
   "version": "2.7.6"
  }
 },
 "nbformat": 4,
 "nbformat_minor": 0
}