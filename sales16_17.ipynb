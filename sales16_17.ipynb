{
 "cells": [
  {
   "cell_type": "markdown",
   "source": [
    "# Sales Analysis 16/17"
   ],
   "metadata": {
    "collapsed": false
   }
  },
  {
   "cell_type": "code",
   "execution_count": 161,
   "outputs": [
    {
     "name": "stdout",
     "output_type": "stream",
     "text": [
      "BOROUGH                                   object\n",
      "NEIGHBORHOOD                              object\n",
      "BUILDING CLASS CATEGORY                   object\n",
      "TAX CLASS AT PRESENT                      object\n",
      "BLOCK                                      int64\n",
      "LOT                                        int64\n",
      "EASE-MENT                                 object\n",
      "BUILDING CLASS AT PRESENT                 object\n",
      "ADDRESS                                   object\n",
      "APARTMENT NUMBER                          object\n",
      "ZIP CODE                                   int64\n",
      "RESIDENTIAL UNITS                          int64\n",
      "COMMERCIAL UNITS                           int64\n",
      "TOTAL UNITS                                int64\n",
      "LAND SQUARE FEET                         float64\n",
      "GROSS SQUARE FEET                        float64\n",
      "YEAR BUILT                                 int64\n",
      "TAX CLASS AT TIME OF SALE                  int64\n",
      "BUILDING CLASS AT TIME OF SALE            object\n",
      "SALE PRICE                                 int64\n",
      "SALE DATE                         datetime64[ns]\n",
      "dtype: object\n"
     ]
    }
   ],
   "source": [
    "# Imports\n",
    "import pandas as pd\n",
    "from IPython.core.display import display\n",
    "import functions as fc\n",
    "import matplotlib.pyplot as plt\n",
    "\n",
    "# Read input file and retaining datetime-format from SALE DATE\n",
    "sales_frame = pd.read_csv(\"data/nyc-rolling-sales2.csv\", parse_dates=[\"SALE DATE\"])\n",
    "\n",
    "# Naming Index\n",
    "sales_frame.index.rename(\"Index\", inplace=True)\n",
    "\n",
    "print(sales_frame.dtypes)"
   ],
   "metadata": {
    "collapsed": false,
    "pycharm": {
     "name": "#%%\n"
    }
   }
  },
  {
   "cell_type": "markdown",
   "source": [
    "## Concerning Duplicates"
   ],
   "metadata": {
    "collapsed": false
   }
  },
  {
   "cell_type": "code",
   "execution_count": 162,
   "outputs": [
    {
     "name": "stdout",
     "output_type": "stream",
     "text": [
      "We checked for duplicates, but there are a few reasons it is difficult to determine these with certainty.\n",
      "Determining by ID was not possible because the IDs in the original dataframe were reset for each borough.\n",
      "The ADDRESS on one hand could involve more than one property and on the other hand it is possible for the property to be resold shortly after initial aquisition.\n"
     ]
    }
   ],
   "source": [
    "# Checking for duplicates\n",
    "print(\"We checked for duplicates, but there are a few reasons it is difficult to determine these with certainty.\\n\"\n",
    "      \"Determining by ID was not possible because the IDs in the original dataframe were reset for each borough.\\n\"\n",
    "      \"The ADDRESS on one hand could involve more than one property and on the other hand it is possible for the property to be resold shortly after initial aquisition.\")"
   ],
   "metadata": {
    "collapsed": false,
    "pycharm": {
     "name": "#%%\n"
    }
   }
  },
  {
   "cell_type": "markdown",
   "source": [
    "## Missing/Zero Values per Column"
   ],
   "metadata": {
    "collapsed": false
   }
  },
  {
   "cell_type": "code",
   "execution_count": 163,
   "outputs": [
    {
     "name": "stdout",
     "output_type": "stream",
     "text": [
      "BOROUGH                               0\n",
      "NEIGHBORHOOD                          0\n",
      "BUILDING CLASS CATEGORY               0\n",
      "TAX CLASS AT PRESENT                  0\n",
      "BLOCK                                 0\n",
      "LOT                                   0\n",
      "EASE-MENT                             0\n",
      "BUILDING CLASS AT PRESENT             0\n",
      "ADDRESS                               0\n",
      "APARTMENT NUMBER                      0\n",
      "ZIP CODE                            982\n",
      "RESIDENTIAL UNITS                 24783\n",
      "COMMERCIAL UNITS                  79429\n",
      "TOTAL UNITS                       19762\n",
      "LAND SQUARE FEET                  36578\n",
      "GROSS SQUARE FEET                 39029\n",
      "YEAR BUILT                         6970\n",
      "TAX CLASS AT TIME OF SALE             0\n",
      "BUILDING CLASS AT TIME OF SALE        0\n",
      "SALE PRICE                        24789\n",
      "SALE DATE                             0\n",
      "dtype: int64\n",
      "\n",
      "There are different interpretations why values are labeled as '0'. There seems to be a significant higher number of residential units than commercial units, what describes the high amount of '0' in that particular column.\n",
      "Also some properties' data was not properly collected, for example there can't be '0' in 'TOTAL UNITS'.\n",
      "\n",
      "BOROUGH                               0\n",
      "NEIGHBORHOOD                          0\n",
      "BUILDING CLASS CATEGORY               0\n",
      "TAX CLASS AT PRESENT                738\n",
      "BLOCK                                 0\n",
      "LOT                                   0\n",
      "EASE-MENT                         84548\n",
      "BUILDING CLASS AT PRESENT           738\n",
      "ADDRESS                               0\n",
      "APARTMENT NUMBER                  65496\n",
      "ZIP CODE                              0\n",
      "RESIDENTIAL UNITS                     0\n",
      "COMMERCIAL UNITS                      0\n",
      "TOTAL UNITS                           0\n",
      "LAND SQUARE FEET                      0\n",
      "GROSS SQUARE FEET                     0\n",
      "YEAR BUILT                            0\n",
      "TAX CLASS AT TIME OF SALE             0\n",
      "BUILDING CLASS AT TIME OF SALE        0\n",
      "SALE PRICE                            0\n",
      "SALE DATE                             0\n",
      "dtype: int64\n",
      "\n",
      "The columns 'EASEMENT' and 'APARTMENT NUMBER' have many missing values and are in general not relevant for data analyzing in our case.\n"
     ]
    }
   ],
   "source": [
    "# Values that are Zero\n",
    "print(sales_frame[sales_frame == 0].count(axis=0))\n",
    "print(\"\\nThere are different interpretations why values are labeled as '0'. There seems to be a significant higher number of residential units than commercial units, what describes the high amount of '0' in that particular column.\\n\"\n",
    "      \"Also some properties' data was not properly collected, for example there can't be '0' in 'TOTAL UNITS'.\\n\")\n",
    "# Missing Values labeled with \" \"\n",
    "print(sales_frame[sales_frame == \" \"].count(axis=0))\n",
    "print(\"\\nThe columns 'EASEMENT' and 'APARTMENT NUMBER' have many missing values and are in general not relevant for data analyzing in our case.\")"
   ],
   "metadata": {
    "collapsed": false,
    "pycharm": {
     "name": "#%%\n"
    }
   }
  },
  {
   "cell_type": "markdown",
   "source": [
    "## Showing Dataframe Head"
   ],
   "metadata": {
    "collapsed": false
   }
  },
  {
   "cell_type": "code",
   "execution_count": 164,
   "outputs": [
    {
     "data": {
      "text/plain": "             BOROUGH   NEIGHBORHOOD  \\\nIndex                                 \n0          Manhattan  ALPHABET CITY   \n1          Manhattan  ALPHABET CITY   \n2          Manhattan  ALPHABET CITY   \n3          Manhattan  ALPHABET CITY   \n4          Manhattan  ALPHABET CITY   \n...              ...            ...   \n84543  Staten Island        WOODROW   \n84544  Staten Island        WOODROW   \n84545  Staten Island        WOODROW   \n84546  Staten Island        WOODROW   \n84547  Staten Island        WOODROW   \n\n                           BUILDING CLASS CATEGORY TAX CLASS AT PRESENT  \\\nIndex                                                                     \n0      07 RENTALS - WALKUP APARTMENTS                                2A   \n1      07 RENTALS - WALKUP APARTMENTS                                 2   \n2      07 RENTALS - WALKUP APARTMENTS                                 2   \n3      07 RENTALS - WALKUP APARTMENTS                                2B   \n4      07 RENTALS - WALKUP APARTMENTS                                2A   \n...                                            ...                  ...   \n84543  02 TWO FAMILY DWELLINGS                                        1   \n84544  02 TWO FAMILY DWELLINGS                                        1   \n84545  02 TWO FAMILY DWELLINGS                                        1   \n84546  22 STORE BUILDINGS                                             4   \n84547  35 INDOOR PUBLIC AND CULTURAL FACILITIES                       4   \n\n       BLOCK  LOT EASE-MENT BUILDING CLASS AT PRESENT                 ADDRESS  \\\nIndex                                                                           \n0        392    6                                  C2            153 AVENUE B   \n1        399   26                                  C7   234 EAST 4TH   STREET   \n2        399   39                                  C7   197 EAST 3RD   STREET   \n3        402   21                                  C4     154 EAST 7TH STREET   \n4        404   55                                  C2  301 EAST 10TH   STREET   \n...      ...  ...       ...                       ...                     ...   \n84543   7349   34                                  B9           37 QUAIL LANE   \n84544   7349   78                                  B9        32 PHEASANT LANE   \n84545   7351   60                                  B2        49 PITNEY AVENUE   \n84546   7100   28                                  K6   2730 ARTHUR KILL ROAD   \n84547   7105  679                                  P9       155 CLAY PIT ROAD   \n\n      APARTMENT NUMBER  ZIP CODE  RESIDENTIAL UNITS  COMMERCIAL UNITS  \\\nIndex                                                                   \n0                          10009                  5                 0   \n1                          10009                 28                 3   \n2                          10009                 16                 1   \n3                          10009                 10                 0   \n4                          10009                  6                 0   \n...                ...       ...                ...               ...   \n84543                      10309                  2                 0   \n84544                      10309                  2                 0   \n84545                      10309                  2                 0   \n84546                      10309                  0                 7   \n84547                      10309                  0                 1   \n\n       TOTAL UNITS  LAND SQUARE FEET  GROSS SQUARE FEET  YEAR BUILT  \\\nIndex                                                                 \n0                5        151.710599         598.295320        1900   \n1               31        428.840248        1736.357070        1900   \n2               17        205.501436         724.922109        1900   \n3               10        211.075616         631.182982        1913   \n4                6        220.087207         428.747345        1900   \n...            ...               ...                ...         ...   \n84543            2        222.967200         239.225225        1998   \n84544            2        232.071694         220.830431        1998   \n84545            2        371.612000         138.982888        1925   \n84546            7      19326.889799        5956.661651        2001   \n84547            1       1002.980788         222.967200        2006   \n\n       TAX CLASS AT TIME OF SALE BUILDING CLASS AT TIME OF SALE  SALE PRICE  \\\nIndex                                                                         \n0                              2                             C2     6625000   \n1                              2                             C7           0   \n2                              2                             C7           0   \n3                              2                             C4     3936272   \n4                              2                             C2     8000000   \n...                          ...                            ...         ...   \n84543                          1                             B9      450000   \n84544                          1                             B9      550000   \n84545                          1                             B2      460000   \n84546                          4                             K6    11693337   \n84547                          4                             P9       69300   \n\n       SALE DATE  \nIndex             \n0     2017-07-19  \n1     2016-12-14  \n2     2016-12-09  \n3     2016-09-23  \n4     2016-11-17  \n...          ...  \n84543 2016-11-28  \n84544 2017-04-21  \n84545 2017-07-05  \n84546 2016-12-21  \n84547 2016-10-27  \n\n[84548 rows x 21 columns]",
      "text/html": "<div>\n<style scoped>\n    .dataframe tbody tr th:only-of-type {\n        vertical-align: middle;\n    }\n\n    .dataframe tbody tr th {\n        vertical-align: top;\n    }\n\n    .dataframe thead th {\n        text-align: right;\n    }\n</style>\n<table border=\"1\" class=\"dataframe\">\n  <thead>\n    <tr style=\"text-align: right;\">\n      <th></th>\n      <th>BOROUGH</th>\n      <th>NEIGHBORHOOD</th>\n      <th>BUILDING CLASS CATEGORY</th>\n      <th>TAX CLASS AT PRESENT</th>\n      <th>BLOCK</th>\n      <th>LOT</th>\n      <th>EASE-MENT</th>\n      <th>BUILDING CLASS AT PRESENT</th>\n      <th>ADDRESS</th>\n      <th>APARTMENT NUMBER</th>\n      <th>ZIP CODE</th>\n      <th>RESIDENTIAL UNITS</th>\n      <th>COMMERCIAL UNITS</th>\n      <th>TOTAL UNITS</th>\n      <th>LAND SQUARE FEET</th>\n      <th>GROSS SQUARE FEET</th>\n      <th>YEAR BUILT</th>\n      <th>TAX CLASS AT TIME OF SALE</th>\n      <th>BUILDING CLASS AT TIME OF SALE</th>\n      <th>SALE PRICE</th>\n      <th>SALE DATE</th>\n    </tr>\n    <tr>\n      <th>Index</th>\n      <th></th>\n      <th></th>\n      <th></th>\n      <th></th>\n      <th></th>\n      <th></th>\n      <th></th>\n      <th></th>\n      <th></th>\n      <th></th>\n      <th></th>\n      <th></th>\n      <th></th>\n      <th></th>\n      <th></th>\n      <th></th>\n      <th></th>\n      <th></th>\n      <th></th>\n      <th></th>\n      <th></th>\n    </tr>\n  </thead>\n  <tbody>\n    <tr>\n      <td>0</td>\n      <td>Manhattan</td>\n      <td>ALPHABET CITY</td>\n      <td>07 RENTALS - WALKUP APARTMENTS</td>\n      <td>2A</td>\n      <td>392</td>\n      <td>6</td>\n      <td></td>\n      <td>C2</td>\n      <td>153 AVENUE B</td>\n      <td></td>\n      <td>10009</td>\n      <td>5</td>\n      <td>0</td>\n      <td>5</td>\n      <td>151.710599</td>\n      <td>598.295320</td>\n      <td>1900</td>\n      <td>2</td>\n      <td>C2</td>\n      <td>6625000</td>\n      <td>2017-07-19</td>\n    </tr>\n    <tr>\n      <td>1</td>\n      <td>Manhattan</td>\n      <td>ALPHABET CITY</td>\n      <td>07 RENTALS - WALKUP APARTMENTS</td>\n      <td>2</td>\n      <td>399</td>\n      <td>26</td>\n      <td></td>\n      <td>C7</td>\n      <td>234 EAST 4TH   STREET</td>\n      <td></td>\n      <td>10009</td>\n      <td>28</td>\n      <td>3</td>\n      <td>31</td>\n      <td>428.840248</td>\n      <td>1736.357070</td>\n      <td>1900</td>\n      <td>2</td>\n      <td>C7</td>\n      <td>0</td>\n      <td>2016-12-14</td>\n    </tr>\n    <tr>\n      <td>2</td>\n      <td>Manhattan</td>\n      <td>ALPHABET CITY</td>\n      <td>07 RENTALS - WALKUP APARTMENTS</td>\n      <td>2</td>\n      <td>399</td>\n      <td>39</td>\n      <td></td>\n      <td>C7</td>\n      <td>197 EAST 3RD   STREET</td>\n      <td></td>\n      <td>10009</td>\n      <td>16</td>\n      <td>1</td>\n      <td>17</td>\n      <td>205.501436</td>\n      <td>724.922109</td>\n      <td>1900</td>\n      <td>2</td>\n      <td>C7</td>\n      <td>0</td>\n      <td>2016-12-09</td>\n    </tr>\n    <tr>\n      <td>3</td>\n      <td>Manhattan</td>\n      <td>ALPHABET CITY</td>\n      <td>07 RENTALS - WALKUP APARTMENTS</td>\n      <td>2B</td>\n      <td>402</td>\n      <td>21</td>\n      <td></td>\n      <td>C4</td>\n      <td>154 EAST 7TH STREET</td>\n      <td></td>\n      <td>10009</td>\n      <td>10</td>\n      <td>0</td>\n      <td>10</td>\n      <td>211.075616</td>\n      <td>631.182982</td>\n      <td>1913</td>\n      <td>2</td>\n      <td>C4</td>\n      <td>3936272</td>\n      <td>2016-09-23</td>\n    </tr>\n    <tr>\n      <td>4</td>\n      <td>Manhattan</td>\n      <td>ALPHABET CITY</td>\n      <td>07 RENTALS - WALKUP APARTMENTS</td>\n      <td>2A</td>\n      <td>404</td>\n      <td>55</td>\n      <td></td>\n      <td>C2</td>\n      <td>301 EAST 10TH   STREET</td>\n      <td></td>\n      <td>10009</td>\n      <td>6</td>\n      <td>0</td>\n      <td>6</td>\n      <td>220.087207</td>\n      <td>428.747345</td>\n      <td>1900</td>\n      <td>2</td>\n      <td>C2</td>\n      <td>8000000</td>\n      <td>2016-11-17</td>\n    </tr>\n    <tr>\n      <td>...</td>\n      <td>...</td>\n      <td>...</td>\n      <td>...</td>\n      <td>...</td>\n      <td>...</td>\n      <td>...</td>\n      <td>...</td>\n      <td>...</td>\n      <td>...</td>\n      <td>...</td>\n      <td>...</td>\n      <td>...</td>\n      <td>...</td>\n      <td>...</td>\n      <td>...</td>\n      <td>...</td>\n      <td>...</td>\n      <td>...</td>\n      <td>...</td>\n      <td>...</td>\n      <td>...</td>\n    </tr>\n    <tr>\n      <td>84543</td>\n      <td>Staten Island</td>\n      <td>WOODROW</td>\n      <td>02 TWO FAMILY DWELLINGS</td>\n      <td>1</td>\n      <td>7349</td>\n      <td>34</td>\n      <td></td>\n      <td>B9</td>\n      <td>37 QUAIL LANE</td>\n      <td></td>\n      <td>10309</td>\n      <td>2</td>\n      <td>0</td>\n      <td>2</td>\n      <td>222.967200</td>\n      <td>239.225225</td>\n      <td>1998</td>\n      <td>1</td>\n      <td>B9</td>\n      <td>450000</td>\n      <td>2016-11-28</td>\n    </tr>\n    <tr>\n      <td>84544</td>\n      <td>Staten Island</td>\n      <td>WOODROW</td>\n      <td>02 TWO FAMILY DWELLINGS</td>\n      <td>1</td>\n      <td>7349</td>\n      <td>78</td>\n      <td></td>\n      <td>B9</td>\n      <td>32 PHEASANT LANE</td>\n      <td></td>\n      <td>10309</td>\n      <td>2</td>\n      <td>0</td>\n      <td>2</td>\n      <td>232.071694</td>\n      <td>220.830431</td>\n      <td>1998</td>\n      <td>1</td>\n      <td>B9</td>\n      <td>550000</td>\n      <td>2017-04-21</td>\n    </tr>\n    <tr>\n      <td>84545</td>\n      <td>Staten Island</td>\n      <td>WOODROW</td>\n      <td>02 TWO FAMILY DWELLINGS</td>\n      <td>1</td>\n      <td>7351</td>\n      <td>60</td>\n      <td></td>\n      <td>B2</td>\n      <td>49 PITNEY AVENUE</td>\n      <td></td>\n      <td>10309</td>\n      <td>2</td>\n      <td>0</td>\n      <td>2</td>\n      <td>371.612000</td>\n      <td>138.982888</td>\n      <td>1925</td>\n      <td>1</td>\n      <td>B2</td>\n      <td>460000</td>\n      <td>2017-07-05</td>\n    </tr>\n    <tr>\n      <td>84546</td>\n      <td>Staten Island</td>\n      <td>WOODROW</td>\n      <td>22 STORE BUILDINGS</td>\n      <td>4</td>\n      <td>7100</td>\n      <td>28</td>\n      <td></td>\n      <td>K6</td>\n      <td>2730 ARTHUR KILL ROAD</td>\n      <td></td>\n      <td>10309</td>\n      <td>0</td>\n      <td>7</td>\n      <td>7</td>\n      <td>19326.889799</td>\n      <td>5956.661651</td>\n      <td>2001</td>\n      <td>4</td>\n      <td>K6</td>\n      <td>11693337</td>\n      <td>2016-12-21</td>\n    </tr>\n    <tr>\n      <td>84547</td>\n      <td>Staten Island</td>\n      <td>WOODROW</td>\n      <td>35 INDOOR PUBLIC AND CULTURAL FACILITIES</td>\n      <td>4</td>\n      <td>7105</td>\n      <td>679</td>\n      <td></td>\n      <td>P9</td>\n      <td>155 CLAY PIT ROAD</td>\n      <td></td>\n      <td>10309</td>\n      <td>0</td>\n      <td>1</td>\n      <td>1</td>\n      <td>1002.980788</td>\n      <td>222.967200</td>\n      <td>2006</td>\n      <td>4</td>\n      <td>P9</td>\n      <td>69300</td>\n      <td>2016-10-27</td>\n    </tr>\n  </tbody>\n</table>\n<p>84548 rows × 21 columns</p>\n</div>"
     },
     "metadata": {},
     "output_type": "display_data"
    }
   ],
   "source": [
    "pd.options.display.max_columns = None\n",
    "display(sales_frame)\n"
   ],
   "metadata": {
    "collapsed": false,
    "pycharm": {
     "name": "#%%\n"
    }
   }
  },
  {
   "cell_type": "markdown",
   "source": [
    "# Number of unique Values per Column"
   ],
   "metadata": {
    "collapsed": false
   }
  },
  {
   "cell_type": "code",
   "execution_count": 165,
   "outputs": [
    {
     "data": {
      "text/plain": "BOROUGH                               5\nNEIGHBORHOOD                        254\nBUILDING CLASS CATEGORY              47\nTAX CLASS AT PRESENT                 11\nBLOCK                             11566\nLOT                                2627\nEASE-MENT                             1\nBUILDING CLASS AT PRESENT           167\nADDRESS                           67563\nAPARTMENT NUMBER                   3989\nZIP CODE                            186\nRESIDENTIAL UNITS                   176\nCOMMERCIAL UNITS                     55\nTOTAL UNITS                         192\nLAND SQUARE FEET                   6061\nGROSS SQUARE FEET                  5690\nYEAR BUILT                          158\nTAX CLASS AT TIME OF SALE             4\nBUILDING CLASS AT TIME OF SALE      166\nSALE PRICE                        10007\nSALE DATE                           364\ndtype: int64"
     },
     "execution_count": 165,
     "metadata": {},
     "output_type": "execute_result"
    }
   ],
   "source": [
    "sales_frame.apply(lambda x: len(x.unique()))"
   ],
   "metadata": {
    "collapsed": false,
    "pycharm": {
     "name": "#%%\n"
    }
   }
  },
  {
   "cell_type": "markdown",
   "source": [
    "## Sales per Year"
   ],
   "metadata": {
    "collapsed": false,
    "pycharm": {
     "name": "#%% md\n"
    }
   }
  },
  {
   "cell_type": "code",
   "execution_count": 166,
   "outputs": [
    {
     "name": "stdout",
     "output_type": "stream",
     "text": [
      "The sales projected in the data frame were made between the 2016-09-01 00:00:00 and 2017-08-31 00:00:00.\n",
      "The total amount of property sales made in the period were 84548.\n"
     ]
    }
   ],
   "source": [
    "# Calculating the start and end date of the data frame\n",
    "sales_beg = sales_frame[\"SALE DATE\"].min()\n",
    "sales_end = sales_frame[\"SALE DATE\"].max()\n",
    "sales_total = len(sales_frame)\n",
    "print(\"The sales projected in the data frame were made between the \", sales_beg, \" and \", sales_end, \".\", sep=\"\")\n",
    "print(\"The total amount of property sales made in the period were \", sales_total, \".\", sep=\"\")"
   ],
   "metadata": {
    "collapsed": false,
    "pycharm": {
     "name": "#%%\n"
    }
   }
  },
  {
   "cell_type": "markdown",
   "source": [
    "## SALE PRICES AND SALES"
   ],
   "metadata": {
    "collapsed": false,
    "pycharm": {
     "name": "#%% md\n"
    }
   }
  },
  {
   "cell_type": "code",
   "execution_count": 167,
   "outputs": [
    {
     "data": {
      "text/plain": "<Figure size 1440x720 with 1 Axes>",
      "image/png": "[encoded data removed]"
     },
     "metadata": {
      "needs_background": "light"
     },
     "output_type": "display_data"
    }
   ],
   "source": [
    "'''\n",
    "#Grouping by Borough and Building Class Category\n",
    "sales_frame_borough = sales_frame.groupby([\"BOROUGH\"])\n",
    "groupedby_borough_building_class = sales_frame_borough[\"BUILDING CLASS CATEGORY\"].value_counts().reset_index(name=\"Index\")\n",
    "groupedby_borough_building_class.columns = [\"BOROUGH\", \"BUILDING CLASS CATEGORY\", \"VALUE COUNTS\"]\n",
    "\n",
    "def test_table():\n",
    "    data_table = groupedby_borough_building_class\n",
    "    return data_table\n",
    "\n",
    "def add_line(ax, xpos, ypos):\n",
    "    line = plt.Line2D([xpos, xpos], [ypos + .1, ypos],\n",
    "                      transform=ax.transAxes, color='black')\n",
    "    line.set_clip_on(False)\n",
    "    ax.add_line(line)\n",
    "\n",
    "def label_len(my_index,level):\n",
    "    labels = my_index.get_level_values(level)\n",
    "    return [(k, sum(1 for i in g)) for k,g in groupby(labels)]\n",
    "\n",
    "def label_group_bar_table(ax, df):\n",
    "    ypos = -.1\n",
    "    scale = 1./df.index.size\n",
    "    for level in range(df.index.nlevels)[::-1]:\n",
    "        pos = 0\n",
    "        for label, rpos in label_len(df.index,level):\n",
    "            lxpos = (pos + 0.5 * rpos)*scale\n",
    "            ax.text(lxpos, ypos, label, ha='center', transform=ax.transAxes)\n",
    "            add_line(ax, pos*scale, ypos)\n",
    "            pos += rpos\n",
    "        add_line(ax, pos*scale , ypos)\n",
    "        ypos -= .1\n",
    "\n",
    "df = test_table().groupby([\"BOROUGH\", \"BUILDING CLASS CATEGORY\"]).sum()\n",
    "fig = plt.figure()\n",
    "ax = fig.add_subplot(111)\n",
    "df.plot(kind='bar',stacked=True,ax=fig.gca(), figsize=(40,20), rot=90)\n",
    "#Below 3 lines remove default labels\n",
    "labels = ['' for item in ax.get_xticklabels()]\n",
    "ax.set_xticklabels(labels)\n",
    "ax.set_xlabel('')\n",
    "label_group_bar_table(ax, df)\n",
    "fig.subplots_adjust(bottom=.1*df.index.nlevels)\n",
    "plt.title(\"Properties sold by Borough and Building Class\")\n",
    "plt.legend(loc=\"center left\", bbox_to_anchor=(1,0.5))\n",
    "plt.savefig(\"graphics/Properties sold by BBC 16_17.jpg\", bbox_inches=\"tight\")\n",
    "plt.show()\n",
    "'''\n",
    "# Printing new dataframe\n",
    "#print(groupedby_borough_building_class)\n",
    "\n",
    "# Grouping by Building Class Category\n",
    "groupedby_building_class = sales_frame[\"BUILDING CLASS CATEGORY\"].value_counts().reset_index(name=\"Index\")\n",
    "groupedby_building_class.columns = [\"BUILDING CLASS CATEGORY\", \"VALUE COUNTS\"]\n",
    "\n",
    "#Printing new dataframe\n",
    "#print(groupedby_building_class)\n",
    "\n",
    "# Visualizing and saving image\n",
    "groupedby_building_class.plot.bar(x=\"BUILDING CLASS CATEGORY\", y=\"VALUE COUNTS\", title=\"Properties sold by Building Class\", figsize=(20,10))\n",
    "plt.savefig(\"graphics/Properties sold by BC 16_17.jpg\", bbox_inches=\"tight\")"
   ],
   "metadata": {
    "collapsed": false,
    "pycharm": {
     "name": "#%%\n"
    }
   }
  },
  {
   "cell_type": "markdown",
   "source": [
    "### 2016"
   ],
   "metadata": {
    "collapsed": false
   }
  },
  {
   "cell_type": "code",
   "execution_count": 168,
   "outputs": [
    {
     "name": "stdout",
     "output_type": "stream",
     "text": [
      "The number of sales in the year 2016 was 29493 with the most expensive sale price being $620000000 and the average sale being $1072704.\n",
      "\n",
      "The adjusted mean (dataframe cleared of $0 sales) is slightly higher being $1558332.\n",
      "\n",
      "The high number of $0 sales also lowers the median sale price to $371600.\n",
      "\n",
      "The total amount spent for property sales in 2016 was $31637273303.\n"
     ]
    }
   ],
   "source": [
    "#Calculating number of sales/mean/median and top sale in 2016\n",
    "sales_2016 = sales_frame[sales_frame[\"SALE DATE\"].dt.year == 2016]\n",
    "sales_max_2016 = sales_2016[\"SALE PRICE\"].max()\n",
    "sales_mean_2016 = sales_2016[\"SALE PRICE\"].mean()\n",
    "sales_total_2016 = sales_2016[\"SALE PRICE\"].sum()\n",
    "sales_median_2016 = sales_2016[\"SALE PRICE\"].median()\n",
    "\n",
    "# Adjusting mean because of $0 sales\n",
    "sales_2016_adj = sales_2016[sales_2016[\"SALE PRICE\"] > 0]\n",
    "sales_2016_mean_adj = sales_2016_adj[\"SALE PRICE\"].mean()\n",
    "\n",
    "print(\"The number of sales in the year 2016 was \", len(sales_2016), \" with the most expensive sale price being $\", int(sales_max_2016), \" and the average sale being $\", int(sales_mean_2016), \".\", sep=\"\")\n",
    "print(\"\\nThe adjusted mean (dataframe cleared of $0 sales) is slightly higher being $\", int(sales_2016_mean_adj), \".\", sep=\"\")\n",
    "print(\"\\nThe high number of $0 sales also lowers the median sale price to $\", int(sales_median_2016), \".\", sep=\"\")\n",
    "print(\"\\nThe total amount spent for property sales in 2016 was $\", int(sales_total_2016), \".\", sep=\"\")\n",
    "\n",
    "# Saving a dataframe without $0 sales for further calculations\n",
    "sales_adj = sales_frame[sales_frame[\"SALE PRICE\"] > 0]\n",
    "fc.to_csv(\"data/nyc-rolling-sales_adj.csv\", sales_adj)"
   ],
   "metadata": {
    "collapsed": false,
    "pycharm": {
     "name": "#%%\n"
    }
   }
  },
  {
   "cell_type": "markdown",
   "source": [
    "### 2017"
   ],
   "metadata": {
    "collapsed": false,
    "pycharm": {
     "name": "#%% md\n"
    }
   }
  },
  {
   "cell_type": "code",
   "execution_count": 169,
   "outputs": [
    {
     "name": "stdout",
     "output_type": "stream",
     "text": [
      "The number of sales in the year 2017 was 55055 with the most expensive sale being $2210000000 and the average sale price being $1048008.\n",
      "\n",
      "The adjusted mean (dataframe cleared of $0 sales) is slightly higher being $1462302.\n",
      "\n",
      "The high number of $0 sales also lowers the median sale price to $435000.\n",
      "\n",
      "The total amount spent for property sales in 2017 was $57698087606.\n"
     ]
    }
   ],
   "source": [
    "# Calculating number of sales/mean/median and top sale in 2017\n",
    "sales_2017 = sales_frame[sales_frame[\"SALE DATE\"].dt.year == 2017]\n",
    "sales_max_2017 = sales_2017[\"SALE PRICE\"].max()\n",
    "sales_mean_2017 = sales_2017[\"SALE PRICE\"].mean()\n",
    "sales_total_2017 = sales_2017[\"SALE PRICE\"].sum()\n",
    "sales_median_2017 = sales_2017[\"SALE PRICE\"].median()\n",
    "\n",
    "# Adjusting mean because of $0 sales\n",
    "sales_2017_adj = sales_2017[sales_2017[\"SALE PRICE\"] > 0]\n",
    "sales_2017_mean_adj = sales_2017_adj[\"SALE PRICE\"].mean()\n",
    "\n",
    "# Printing all the results\n",
    "print(\"The number of sales in the year 2017 was \", len(sales_2017), \" with the most expensive sale being $\", int(sales_max_2017), \" and the average sale price being $\", int(sales_mean_2017),\".\", sep=\"\")\n",
    "print(\"\\nThe adjusted mean (dataframe cleared of $0 sales) is slightly higher being $\", int(sales_2017_mean_adj), \".\", sep=\"\")\n",
    "print(\"\\nThe high number of $0 sales also lowers the median sale price to $\", int(sales_median_2017), \".\", sep=\"\")\n",
    "print(\"\\nThe total amount spent for property sales in 2017 was $\", int(sales_total_2017), \".\", sep=\"\")"
   ],
   "metadata": {
    "collapsed": false,
    "pycharm": {
     "name": "#%%\n"
    }
   }
  },
  {
   "cell_type": "markdown",
   "source": [
    "### 2016 & 2017 Average"
   ],
   "metadata": {
    "collapsed": false
   }
  },
  {
   "cell_type": "code",
   "execution_count": 170,
   "outputs": [
    {
     "name": "stdout",
     "output_type": "stream",
     "text": [
      "The average adjusted sale price for both years is $1494927.31.\n"
     ]
    }
   ],
   "source": [
    "# Calculating Average Sale Price for both years\n",
    "sales_mean = sales_adj[\"SALE PRICE\"].mean()\n",
    "print(\"The average adjusted sale price for both years is $\", round(sales_mean, 2), \".\", sep=\"\")"
   ],
   "metadata": {
    "collapsed": false,
    "pycharm": {
     "name": "#%%\n"
    }
   }
  },
  {
   "cell_type": "markdown",
   "source": [
    "## Sales per Month\n",
    "\n",
    "\n",
    "##### January"
   ],
   "metadata": {
    "collapsed": false,
    "pycharm": {
     "name": "#%% md\n"
    }
   }
  },
  {
   "cell_type": "code",
   "execution_count": 171,
   "outputs": [
    {
     "name": "stdout",
     "output_type": "stream",
     "text": [
      "2016: 0\n",
      "2017: 6871\n"
     ]
    }
   ],
   "source": [
    "sales_jan_2016 = sales_2016[sales_2016[\"SALE DATE\"].dt.month == 1]\n",
    "print(\"2016:\", len(sales_jan_2016))\n",
    "sales_jan_2017 = sales_2017[sales_2017[\"SALE DATE\"].dt.month == 1]\n",
    "print(\"2017:\", len(sales_jan_2017))"
   ],
   "metadata": {
    "collapsed": false,
    "pycharm": {
     "name": "#%%\n"
    }
   }
  },
  {
   "cell_type": "markdown",
   "source": [
    "##### February"
   ],
   "metadata": {
    "collapsed": false
   }
  },
  {
   "cell_type": "code",
   "execution_count": 172,
   "outputs": [
    {
     "name": "stdout",
     "output_type": "stream",
     "text": [
      "2016: 0\n",
      "2017: 6323\n"
     ]
    }
   ],
   "source": [
    "sales_feb_2016 = sales_2016[sales_2016[\"SALE DATE\"].dt.month == 2]\n",
    "print(\"2016:\", len(sales_feb_2016))\n",
    "sales_feb_2017 = sales_2017[sales_2017[\"SALE DATE\"].dt.month == 2]\n",
    "print(\"2017:\", len(sales_feb_2017))"
   ],
   "metadata": {
    "collapsed": false,
    "pycharm": {
     "name": "#%%\n"
    }
   }
  },
  {
   "cell_type": "markdown",
   "source": [
    "##### March"
   ],
   "metadata": {
    "collapsed": false
   }
  },
  {
   "cell_type": "code",
   "execution_count": 173,
   "outputs": [
    {
     "name": "stdout",
     "output_type": "stream",
     "text": [
      "2016: 0\n",
      "2017: 7705\n"
     ]
    }
   ],
   "source": [
    "sales_mar_2016 = sales_2016[sales_2016[\"SALE DATE\"].dt.month == 3]\n",
    "print(\"2016:\", len(sales_mar_2016))\n",
    "sales_mar_2017 = sales_2017[sales_2017[\"SALE DATE\"].dt.month == 3]\n",
    "print(\"2017:\", len(sales_mar_2017))"
   ],
   "metadata": {
    "collapsed": false,
    "pycharm": {
     "name": "#%%\n"
    }
   }
  },
  {
   "cell_type": "markdown",
   "source": [
    "##### April"
   ],
   "metadata": {
    "collapsed": false
   }
  },
  {
   "cell_type": "code",
   "execution_count": 174,
   "outputs": [
    {
     "name": "stdout",
     "output_type": "stream",
     "text": [
      "2016: 0\n",
      "2017: 6402\n"
     ]
    }
   ],
   "source": [
    "sales_apr_2016 = sales_2016[sales_2016[\"SALE DATE\"].dt.month == 4]\n",
    "print(\"2016:\", len(sales_apr_2016))\n",
    "sales_apr_2017 = sales_2017[sales_2017[\"SALE DATE\"].dt.month == 4]\n",
    "print(\"2017:\", len(sales_apr_2017))"
   ],
   "metadata": {
    "collapsed": false,
    "pycharm": {
     "name": "#%%\n"
    }
   }
  },
  {
   "cell_type": "markdown",
   "source": [
    "##### May"
   ],
   "metadata": {
    "collapsed": false
   }
  },
  {
   "cell_type": "code",
   "execution_count": 175,
   "outputs": [
    {
     "name": "stdout",
     "output_type": "stream",
     "text": [
      "2016: 0\n",
      "2017: 7461\n"
     ]
    }
   ],
   "source": [
    "sales_may_2016 = sales_2016[sales_2016[\"SALE DATE\"].dt.month == 5]\n",
    "print(\"2016:\", len(sales_may_2016))\n",
    "sales_may_2017 = sales_2017[sales_2017[\"SALE DATE\"].dt.month == 5]\n",
    "print(\"2017:\", len(sales_may_2017))"
   ],
   "metadata": {
    "collapsed": false,
    "pycharm": {
     "name": "#%%\n"
    }
   }
  },
  {
   "cell_type": "markdown",
   "source": [
    "##### June"
   ],
   "metadata": {
    "collapsed": false
   }
  },
  {
   "cell_type": "code",
   "execution_count": 176,
   "outputs": [
    {
     "name": "stdout",
     "output_type": "stream",
     "text": [
      "2016: 0\n",
      "2017: 8293\n"
     ]
    }
   ],
   "source": [
    "sales_jun_2016 = sales_2016[sales_2016[\"SALE DATE\"].dt.month == 6]\n",
    "print(\"2016:\", len(sales_jun_2016))\n",
    "sales_jun_2017 = sales_2017[sales_2017[\"SALE DATE\"].dt.month == 6]\n",
    "print(\"2017:\", len(sales_jun_2017))"
   ],
   "metadata": {
    "collapsed": false,
    "pycharm": {
     "name": "#%%\n"
    }
   }
  },
  {
   "cell_type": "markdown",
   "source": [
    "##### July"
   ],
   "metadata": {
    "collapsed": false
   }
  },
  {
   "cell_type": "code",
   "execution_count": 177,
   "outputs": [
    {
     "name": "stdout",
     "output_type": "stream",
     "text": [
      "2016: 0\n",
      "2017: 6319\n"
     ]
    }
   ],
   "source": [
    "sales_jul_2016 = sales_2016[sales_2016[\"SALE DATE\"].dt.month == 7]\n",
    "print(\"2016:\", len(sales_jul_2016))\n",
    "sales_jul_2017 = sales_2017[sales_2017[\"SALE DATE\"].dt.month == 7]\n",
    "print(\"2017:\", len(sales_jul_2017))"
   ],
   "metadata": {
    "collapsed": false,
    "pycharm": {
     "name": "#%%\n"
    }
   }
  },
  {
   "cell_type": "markdown",
   "source": [
    "##### August"
   ],
   "metadata": {
    "collapsed": false
   }
  },
  {
   "cell_type": "code",
   "execution_count": 178,
   "outputs": [
    {
     "name": "stdout",
     "output_type": "stream",
     "text": [
      "2016: 0\n",
      "2017: 5681\n"
     ]
    }
   ],
   "source": [
    "sales_aug_2016 = sales_2016[sales_2016[\"SALE DATE\"].dt.month == 8]\n",
    "print(\"2016:\", len(sales_aug_2016))\n",
    "sales_aug_2017 = sales_2017[sales_2017[\"SALE DATE\"].dt.month == 8]\n",
    "print(\"2017:\", len(sales_aug_2017))"
   ],
   "metadata": {
    "collapsed": false,
    "pycharm": {
     "name": "#%%\n"
    }
   }
  },
  {
   "cell_type": "markdown",
   "source": [
    "##### September"
   ],
   "metadata": {
    "collapsed": false
   }
  },
  {
   "cell_type": "code",
   "execution_count": 179,
   "outputs": [
    {
     "name": "stdout",
     "output_type": "stream",
     "text": [
      "2016: 7779\n",
      "2017: 0\n"
     ]
    }
   ],
   "source": [
    "sales_sep_2016 = sales_2016[sales_2016[\"SALE DATE\"].dt.month == 9]\n",
    "print(\"2016:\", len(sales_sep_2016))\n",
    "sales_sep_2017 = sales_2017[sales_2017[\"SALE DATE\"].dt.month == 9]\n",
    "print(\"2017:\", len(sales_sep_2017))"
   ],
   "metadata": {
    "collapsed": false,
    "pycharm": {
     "name": "#%%\n"
    }
   }
  },
  {
   "cell_type": "markdown",
   "source": [
    "##### October"
   ],
   "metadata": {
    "collapsed": false
   }
  },
  {
   "cell_type": "code",
   "execution_count": 180,
   "outputs": [
    {
     "name": "stdout",
     "output_type": "stream",
     "text": [
      "2016: 6751\n",
      "2017: 0\n"
     ]
    }
   ],
   "source": [
    "sales_oct_2016 = sales_2016[sales_2016[\"SALE DATE\"].dt.month == 10]\n",
    "print(\"2016:\", len(sales_oct_2016))\n",
    "sales_oct_2017 = sales_2017[sales_2017[\"SALE DATE\"].dt.month == 10]\n",
    "print(\"2017:\", len(sales_oct_2017))"
   ],
   "metadata": {
    "collapsed": false,
    "pycharm": {
     "name": "#%%\n"
    }
   }
  },
  {
   "cell_type": "markdown",
   "source": [
    "##### November"
   ],
   "metadata": {
    "collapsed": false
   }
  },
  {
   "cell_type": "code",
   "execution_count": 181,
   "outputs": [
    {
     "name": "stdout",
     "output_type": "stream",
     "text": [
      "2016: 7072\n",
      "2017: 0\n"
     ]
    }
   ],
   "source": [
    "sales_nov_2016 = sales_2016[sales_2016[\"SALE DATE\"].dt.month == 11]\n",
    "print(\"2016:\", len(sales_nov_2016))\n",
    "sales_nov_2017 = sales_2017[sales_2017[\"SALE DATE\"].dt.month == 11]\n",
    "print(\"2017:\", len(sales_nov_2017))"
   ],
   "metadata": {
    "collapsed": false,
    "pycharm": {
     "name": "#%%\n"
    }
   }
  },
  {
   "cell_type": "markdown",
   "source": [
    "##### December"
   ],
   "metadata": {
    "collapsed": false
   }
  },
  {
   "cell_type": "code",
   "execution_count": 182,
   "outputs": [
    {
     "name": "stdout",
     "output_type": "stream",
     "text": [
      "2016: 7891\n",
      "2017: 0\n"
     ]
    }
   ],
   "source": [
    "sales_dec_2016 = sales_2016[sales_2016[\"SALE DATE\"].dt.month == 12]\n",
    "print(\"2016:\", len(sales_dec_2016))\n",
    "sales_dec_2017 = sales_2017[sales_2017[\"SALE DATE\"].dt.month == 12]\n",
    "print(\"2017:\", len(sales_dec_2017))"
   ],
   "metadata": {
    "collapsed": false,
    "pycharm": {
     "name": "#%%\n"
    }
   }
  },
  {
   "cell_type": "markdown",
   "source": [
    "## Transactions without Sale Price"
   ],
   "metadata": {
    "collapsed": false,
    "pycharm": {
     "name": "#%% md\n"
    }
   }
  },
  {
   "cell_type": "code",
   "execution_count": 183,
   "outputs": [
    {
     "name": "stdout",
     "output_type": "stream",
     "text": [
      "The number of property sales with a sale price of $0 is 24789.\n",
      "The number of property sales with a sale price of $0 is 59759.\n",
      "The number of all property sales is 84548.\n",
      "This equals to about 29.32%\n"
     ]
    },
    {
     "data": {
      "text/plain": "<Figure size 432x288 with 1 Axes>",
      "image/png": "[encoded data removed]"
     },
     "metadata": {
      "needs_background": "light"
     },
     "output_type": "display_data"
    }
   ],
   "source": [
    "# Calculating sales without sale price\n",
    "sales_zero = sales_frame[sales_frame[\"SALE PRICE\"] == 0]\n",
    "print(\"The number of property sales with a sale price of $0 is \", len(sales_zero), \".\", sep=\"\")\n",
    "\n",
    "# Calculating sales with sale price\n",
    "sales_more = sales_frame[sales_frame[\"SALE PRICE\"] > 0]\n",
    "print(\"The number of property sales with a sale price of $0 is \", len(sales_more), \".\", sep=\"\")\n",
    "\n",
    "# why is there a difference\n",
    "#print(sales_frame[sales_frame[\"SALE PRICE\"].unique()])\n",
    "\n",
    "# Measuring total number of sales\n",
    "print(\"The number of all property sales is \", len(sales_frame), \".\", sep=\"\")\n",
    "\n",
    "# Sales without sale price in relation to all sales\n",
    "sales_zero_percent = len(sales_frame[sales_frame[\"SALE PRICE\"] == 0]) / len(sales_frame)\n",
    "print(\"This equals to about \", round(sales_zero_percent * 100, 2), \"%\", sep=\"\")\n",
    "\n",
    "# Filtering dataframe \"sales_zero\" by borough\n",
    "sales_zero_borough = sales_zero.groupby([\"BOROUGH\"])\n",
    "groupedby_zero_borough = sales_zero_borough[\"SALE PRICE\"].value_counts().reset_index(name=\"Index\")\n",
    "groupedby_zero_borough.columns = [\"BOROUGH\", \"SALE PRICE\", \"VALUE COUNTS\"]\n",
    "\n",
    "# Printing new dataframe\n",
    "#print(groupedby_zero_borough)\n",
    "\n",
    "# Visualizing and saving image\n",
    "groupedby_zero_borough.plot.bar(x=\"BOROUGH\", y=\"VALUE COUNTS\", title=\"Properties with $0 sale price per borough in 16/17\")\n",
    "\n",
    "plt.savefig(\"graphics/Properties with $0 sale price per borough 16_17.jpg\", bbox_inches=\"tight\")"
   ],
   "metadata": {
    "collapsed": false,
    "pycharm": {
     "name": "#%%\n"
    }
   }
  },
  {
   "cell_type": "markdown",
   "source": [
    "#### Reasons for that"
   ],
   "metadata": {
    "collapsed": false,
    "pycharm": {
     "name": "#%% md\n"
    }
   }
  },
  {
   "cell_type": "code",
   "execution_count": 184,
   "outputs": [
    {
     "name": "stdout",
     "output_type": "stream",
     "text": [
      "\n",
      "A $0 sale indicates that there was a transfer of ownership without cash consideration.\n",
      "There can be a number of reasons for that, for example transfers of ownership from parents to children.\n",
      "\n",
      "There is also a small number of sales (138) that were made for insignificant values (for example < $100), which suggests the same as above.\n"
     ]
    }
   ],
   "source": [
    "# Reasons for sale price of $0\n",
    "print(\"\\nA $0 sale indicates that there was a transfer of ownership without cash consideration.\"\n",
    "      \"\\nThere can be a number of reasons for that, for example transfers of ownership from parents to children.\")\n",
    "\n",
    "# Calculating Number of Sales with very low sale price\n",
    "sales_almost_zero = sales_frame[(sales_frame[\"SALE PRICE\"] < 100) & sales_frame[\"SALE PRICE\"] != 0]\n",
    "print(\"\\nThere is also a small number of sales (\", len(sales_almost_zero), \") that were made for insignificant values (for example < $100), which suggests the same as above.\", sep=\"\")"
   ],
   "metadata": {
    "collapsed": false,
    "pycharm": {
     "name": "#%%\n"
    }
   }
  },
  {
   "cell_type": "markdown",
   "source": [
    "## Locations of properties\n",
    "\n",
    "\n",
    "### Sales in different boroughs"
   ],
   "metadata": {
    "collapsed": false,
    "pycharm": {
     "name": "#%% md\n"
    }
   }
  },
  {
   "cell_type": "code",
   "execution_count": 185,
   "outputs": [
    {
     "name": "stdout",
     "output_type": "stream",
     "text": [
      "(1) Manhattan: 18306\n",
      "(2) Brooklyn: 24047\n",
      "(3) Queens: 7049\n",
      "(4) The Bronx: 26736\n",
      "(5) Staten Island: 8410\n"
     ]
    }
   ],
   "source": [
    "# Sorting the sales by boroughs\n",
    "sales_manhattan = sales_frame[sales_frame[\"BOROUGH\"] == \"Manhattan\"]\n",
    "sales_brooklyn = sales_frame[sales_frame[\"BOROUGH\"] == \"Queens\"]\n",
    "sales_queens = sales_frame[sales_frame[\"BOROUGH\"] == \"Brooklyn\"]\n",
    "sales_the_bronx = sales_frame[sales_frame[\"BOROUGH\"] == \"The Bronx\"]\n",
    "sales_staten_island = sales_frame[sales_frame[\"BOROUGH\"] == \"Staten Island\"]\n",
    "print(\"(1) Manhattan:\", len(sales_manhattan))\n",
    "print(\"(2) Brooklyn:\", len(sales_brooklyn))\n",
    "print(\"(3) Queens:\", len(sales_queens))\n",
    "print(\"(4) The Bronx:\", len(sales_the_bronx))\n",
    "print(\"(5) Staten Island:\", len(sales_staten_island))"
   ],
   "metadata": {
    "collapsed": false,
    "pycharm": {
     "name": "#%%\n"
    }
   }
  },
  {
   "cell_type": "markdown",
   "source": [
    "### Sales in different neighborhoods\n",
    "\n",
    "\n",
    "#### Top 5/Last 5 Neighborhoods"
   ],
   "metadata": {
    "collapsed": false
   }
  },
  {
   "cell_type": "code",
   "execution_count": 186,
   "outputs": [
    {
     "name": "stdout",
     "output_type": "stream",
     "text": [
      "FLUSHING-NORTH             3068\n",
      "UPPER EAST SIDE (59-79)    1736\n",
      "UPPER EAST SIDE (79-96)    1590\n",
      "UPPER WEST SIDE (59-79)    1439\n",
      "BEDFORD STUYVESANT         1436\n",
      "Name: NEIGHBORHOOD, dtype: int64\n",
      "PELHAM BAY                  1\n",
      "EAST RIVER                  1\n",
      "BRONX PARK                  1\n",
      "CITY ISLAND-PELHAM STRIP    1\n",
      "FRESH KILLS                 2\n",
      "VAN CORTLANDT PARK          2\n",
      "CO-OP CITY                  5\n",
      "DONGAN HILLS-OLD TOWN       5\n",
      "ROSSVILLE-PORT MOBIL        6\n",
      "AIRPORT LA GUARDIA          8\n",
      "Name: NEIGHBORHOOD, dtype: int64\n"
     ]
    }
   ],
   "source": [
    "neighborhood_top5 = sales_frame['NEIGHBORHOOD'].value_counts()\n",
    "print(neighborhood_top5.nlargest(5))\n",
    "\n",
    "neighborhood_last5 = sales_frame['NEIGHBORHOOD'].value_counts()\n",
    "print(neighborhood_last5.nsmallest(10))"
   ],
   "metadata": {
    "collapsed": false,
    "pycharm": {
     "name": "#%%\n"
    }
   }
  },
  {
   "cell_type": "markdown",
   "source": [
    "#### Top in Manhattan"
   ],
   "metadata": {
    "collapsed": false,
    "pycharm": {
     "name": "#%% md\n"
    }
   }
  },
  {
   "cell_type": "code",
   "execution_count": 187,
   "outputs": [
    {
     "name": "stdout",
     "output_type": "stream",
     "text": [
      "UPPER EAST SIDE (59-79)      1736\n",
      "UPPER EAST SIDE (79-96)      1590\n",
      "UPPER WEST SIDE (59-79)      1439\n",
      "MIDTOWN EAST                 1418\n",
      "UPPER WEST SIDE (79-96)      1004\n",
      "MIDTOWN WEST                  918\n",
      "HARLEM-CENTRAL                847\n",
      "CHELSEA                       803\n",
      "TRIBECA                       655\n",
      "GREENWICH VILLAGE-CENTRAL     638\n",
      "Name: NEIGHBORHOOD, dtype: int64\n"
     ]
    }
   ],
   "source": [
    "sales_m_neighbor = sales_manhattan[\"NEIGHBORHOOD\"].value_counts()\n",
    "print(sales_m_neighbor.nlargest(10))"
   ],
   "metadata": {
    "collapsed": false,
    "pycharm": {
     "name": "#%%\n"
    }
   }
  },
  {
   "cell_type": "markdown",
   "source": [
    "#### Top in Brooklyn"
   ],
   "metadata": {
    "collapsed": false
   }
  },
  {
   "cell_type": "code",
   "execution_count": 188,
   "outputs": [
    {
     "name": "stdout",
     "output_type": "stream",
     "text": [
      "BEDFORD STUYVESANT    1436\n",
      "BOROUGH PARK          1245\n",
      "SHEEPSHEAD BAY        1013\n",
      "EAST NEW YORK          982\n",
      "FLATBUSH-EAST          846\n",
      "BAY RIDGE              832\n",
      "CROWN HEIGHTS          793\n",
      "CANARSIE               783\n",
      "BUSHWICK               769\n",
      "PARK SLOPE             706\n",
      "Name: NEIGHBORHOOD, dtype: int64\n"
     ]
    }
   ],
   "source": [
    "sales_b_neighbor = sales_brooklyn[\"NEIGHBORHOOD\"].value_counts()\n",
    "print(sales_b_neighbor.nlargest(10))"
   ],
   "metadata": {
    "collapsed": false,
    "pycharm": {
     "name": "#%%\n"
    }
   }
  },
  {
   "cell_type": "markdown",
   "source": [
    "#### Top in Queens"
   ],
   "metadata": {
    "collapsed": false
   }
  },
  {
   "cell_type": "code",
   "execution_count": 189,
   "outputs": [
    {
     "name": "stdout",
     "output_type": "stream",
     "text": [
      "RIVERDALE                   647\n",
      "SOUNDVIEW                   499\n",
      "PARKCHESTER                 455\n",
      "WILLIAMSBRIDGE              440\n",
      "BAYCHESTER                  436\n",
      "MORRISANIA/LONGWOOD         358\n",
      "THROGS NECK                 352\n",
      "BRONXDALE                   332\n",
      "MORRIS PARK/VAN NEST        276\n",
      "SCHUYLERVILLE/PELHAM BAY    264\n",
      "Name: NEIGHBORHOOD, dtype: int64\n"
     ]
    }
   ],
   "source": [
    "sales_q_neighbor = sales_queens[\"NEIGHBORHOOD\"].value_counts()\n",
    "print(sales_q_neighbor.nlargest(10))"
   ],
   "metadata": {
    "collapsed": false,
    "pycharm": {
     "name": "#%%\n"
    }
   }
  },
  {
   "cell_type": "markdown",
   "source": [
    "#### Top in The Bronx"
   ],
   "metadata": {
    "collapsed": false
   }
  },
  {
   "cell_type": "code",
   "execution_count": 190,
   "outputs": [
    {
     "name": "stdout",
     "output_type": "stream",
     "text": [
      "FLUSHING-NORTH     3068\n",
      "ASTORIA            1216\n",
      "BAYSIDE            1150\n",
      "FOREST HILLS       1069\n",
      "JACKSON HEIGHTS     992\n",
      "FLUSHING-SOUTH      918\n",
      "ELMHURST            802\n",
      "RICHMOND HILL       749\n",
      "REGO PARK           721\n",
      "CORONA              647\n",
      "Name: NEIGHBORHOOD, dtype: int64\n"
     ]
    }
   ],
   "source": [
    "sales_tb_neighbor = sales_the_bronx[\"NEIGHBORHOOD\"].value_counts()\n",
    "print(sales_tb_neighbor.nlargest(10))"
   ],
   "metadata": {
    "collapsed": false,
    "pycharm": {
     "name": "#%%\n"
    }
   }
  },
  {
   "cell_type": "markdown",
   "source": [
    "#### Top in Staten Island"
   ],
   "metadata": {
    "collapsed": false
   }
  },
  {
   "cell_type": "code",
   "execution_count": 191,
   "outputs": [
    {
     "name": "stdout",
     "output_type": "stream",
     "text": [
      "GREAT KILLS          776\n",
      "NEW SPRINGVILLE      590\n",
      "BULLS HEAD           393\n",
      "ELTINGVILLE          345\n",
      "MIDLAND BEACH        316\n",
      "WEST NEW BRIGHTON    315\n",
      "PORT RICHMOND        288\n",
      "ARDEN HEIGHTS        278\n",
      "MARINERS HARBOR      273\n",
      "WESTERLEIGH          267\n",
      "Name: NEIGHBORHOOD, dtype: int64\n"
     ]
    }
   ],
   "source": [
    "sales_si_neighbor = sales_staten_island[\"NEIGHBORHOOD\"].value_counts()\n",
    "print(sales_si_neighbor.nlargest(10))"
   ],
   "metadata": {
    "collapsed": false,
    "pycharm": {
     "name": "#%%\n"
    }
   }
  },
  {
   "cell_type": "markdown",
   "source": [
    "### Buildings sold per building class"
   ],
   "metadata": {
    "collapsed": false,
    "pycharm": {
     "name": "#%% md\n"
    }
   }
  },
  {
   "cell_type": "code",
   "execution_count": 192,
   "outputs": [
    {
     "name": "stdout",
     "output_type": "stream",
     "text": [
      "01 ONE FAMILY DWELLINGS                         18235\n",
      "02 TWO FAMILY DWELLINGS                         15828\n",
      "13 CONDOS - ELEVATOR APARTMENTS                 12989\n",
      "10 COOPS - ELEVATOR APARTMENTS                  12902\n",
      "03 THREE FAMILY DWELLINGS                        4384\n",
      "07 RENTALS - WALKUP APARTMENTS                   3466\n",
      "09 COOPS - WALKUP APARTMENTS                     2767\n",
      "04 TAX CLASS 1 CONDOS                            1656\n",
      "44 CONDO PARKING                                 1441\n",
      "15 CONDOS - 2-10 UNIT RESIDENTIAL                1281\n",
      "05 TAX CLASS 1 VACANT LAND                       1248\n",
      "17 CONDO COOPS                                   1201\n",
      "22 STORE BUILDINGS                                935\n",
      "12 CONDOS - WALKUP APARTMENTS                     926\n",
      "14 RENTALS - 4-10 UNIT                            671\n",
      "29 COMMERCIAL GARAGES                             587\n",
      "43 CONDO OFFICE BUILDINGS                         475\n",
      "31 COMMERCIAL VACANT LAND                         463\n",
      "08 RENTALS - ELEVATOR APARTMENTS                  382\n",
      "47 CONDO NON-BUSINESS STORAGE                     377\n",
      "21 OFFICE BUILDINGS                               350\n",
      "30 WAREHOUSES                                     326\n",
      "45 CONDO HOTELS                                   211\n",
      "27 FACTORIES                                      201\n",
      "06 TAX CLASS 1 - OTHER                            182\n",
      "41 TAX CLASS 4 - OTHER                            158\n",
      "46 CONDO STORE BUILDINGS                          154\n",
      "26 OTHER HOTELS                                   114\n",
      "37 RELIGIOUS FACILITIES                           100\n",
      "16 CONDOS - 2-10 UNIT WITH COMMERCIAL UNIT         96\n",
      "33 EDUCATIONAL FACILITIES                          69\n",
      "32 HOSPITAL AND HEALTH FACILITIES                  59\n",
      "48 CONDO TERRACES/GARDENS/CABANAS                  47\n",
      "23 LOFT BUILDINGS                                  46\n",
      "11A CONDO-RENTALS                                  43\n",
      "35 INDOOR PUBLIC AND CULTURAL FACILITIES           32\n",
      "28 COMMERCIAL CONDOS                               30\n",
      "49 CONDO WAREHOUSES/FACTORY/INDUS                  30\n",
      "38 ASYLUMS AND HOMES                               25\n",
      "36 OUTDOOR RECREATIONAL FACILITIES                 14\n",
      "42 CONDO CULTURAL/MEDICAL/EDUCATIONAL/ETC          13\n",
      "34 THEATRES                                        12\n",
      "25 LUXURY HOTELS                                   12\n",
      "18 TAX CLASS 3 - UNTILITY PROPERTIES                4\n",
      "39 TRANSPORTATION FACILITIES                        2\n",
      "11 SPECIAL CONDO BILLING LOTS                       2\n",
      "40 SELECTED GOVERNMENTAL FACILITIES                 2\n",
      "Name: BUILDING CLASS CATEGORY, dtype: int64\n"
     ]
    }
   ],
   "source": [
    "# Sales per building class category\n",
    "sales_per_building_class = sales_frame[\"BUILDING CLASS CATEGORY\"].value_counts()\n",
    "print(sales_per_building_class)\n"
   ],
   "metadata": {
    "collapsed": false,
    "pycharm": {
     "name": "#%%\n"
    }
   }
  }
 ],
 "metadata": {
  "kernelspec": {
   "display_name": "Python 3",
   "language": "python",
   "name": "python3"
  },
  "language_info": {
   "codemirror_mode": {
    "name": "ipython",
    "version": 2
   },
   "file_extension": ".py",
   "mimetype": "text/x-python",
   "name": "python",
   "nbconvert_exporter": "python",
   "pygments_lexer": "ipython2",
   "version": "2.7.6"
  }
 },
 "nbformat": 4,
 "nbformat_minor": 0
}